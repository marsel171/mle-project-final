{
 "cells": [
  {
   "cell_type": "code",
   "execution_count": 1,
   "metadata": {},
   "outputs": [],
   "source": [
    "import pandas as pd\n",
    "from catboost import CatBoostClassifier\n",
    "import logging\n",
    "import pickle\n",
    "import boto3\n",
    "from dotenv import load_dotenv\n",
    "import os\n",
    "import io\n",
    "import json\n",
    "\n",
    "load_dotenv()\n",
    "\n",
    "AWS_ACCESS_KEY_ID = os.environ.get('AWS_ACCESS_KEY_ID')\n",
    "AWS_SECRET_ACCESS_KEY = os.environ.get('AWS_SECRET_ACCESS_KEY')\n",
    "S3_SERVICE_NAME = 's3'\n",
    "S3_ENDPOINT_URL = os.environ.get('S3_ENDPOINT_URL')\n",
    "BUCKET_NAME = os.environ.get('S3_BUCKET_NAME')\n",
    "\n",
    "session = boto3.session.Session()\n",
    "\n",
    "s3 = session.client(\n",
    "        service_name=S3_SERVICE_NAME,\n",
    "        endpoint_url=S3_ENDPOINT_URL,\n",
    "        aws_access_key_id=AWS_ACCESS_KEY_ID,\n",
    "        aws_secret_access_key=AWS_SECRET_ACCESS_KEY\n",
    "    )"
   ]
  },
  {
   "cell_type": "code",
   "execution_count": 2,
   "metadata": {},
   "outputs": [],
   "source": [
    "cat_cols = [\n",
    "    \"sexo\",\n",
    "    \"ind_nuevo\",\n",
    "    \"indext\",\n",
    "    \"canal_entrada\",\n",
    "    \"cod_prov\",\n",
    "    \"ind_actividad_cliente\",\n",
    "    \"segmento\",\n",
    "]\n",
    "num_cols = [\"age\", \"antiguedad\", \"renta\"]\n",
    "mlc_model = CatBoostClassifier(\n",
    "    cat_features=cat_cols,\n",
    "    loss_function=\"MultiLogloss\",\n",
    "    iterations=10,\n",
    "    learning_rate=1,\n",
    "    depth=2,\n",
    ")\n",
    "obj_mlc_model = s3.get_object(Bucket=BUCKET_NAME, Key=os.environ.get(\"KEY_MLC_MODEL\"))\n",
    "mlc_model = mlc_model.load_model(stream=io.BytesIO(obj_mlc_model[\"Body\"].read()))"
   ]
  }
 ],
 "metadata": {
  "kernelspec": {
   "display_name": ".venv",
   "language": "python",
   "name": "python3"
  },
  "language_info": {
   "codemirror_mode": {
    "name": "ipython",
    "version": 3
   },
   "file_extension": ".py",
   "mimetype": "text/x-python",
   "name": "python",
   "nbconvert_exporter": "python",
   "pygments_lexer": "ipython3",
   "version": "3.12.2"
  }
 },
 "nbformat": 4,
 "nbformat_minor": 2
}
